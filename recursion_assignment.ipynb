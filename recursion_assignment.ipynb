{
 "cells": [
  {
   "cell_type": "code",
   "execution_count": 13,
   "id": "419a0188",
   "metadata": {},
   "outputs": [
    {
     "name": "stdout",
     "output_type": "stream",
     "text": [
      "1\n",
      "3\n",
      "7\n",
      "15\n"
     ]
    }
   ],
   "source": [
    "#Q.1 Can you explain the logic and working of the Tower of Hanoi algorithm by writing a Java program? How does the recursion work, and how are the movements of disks between rods accomplished?\n",
    "def moves(n ,s,d,a):\n",
    "    if n==1:\n",
    "        return 1\n",
    "    else:\n",
    "        return moves(n-1,'s','a','d') + 1 + moves(n-1,'a','d','s')\n",
    "print(moves(1,'s','d','a'))\n",
    "print(moves(2,'s','d','a'))\n",
    "print(moves(3,'s','d','a'))\n",
    "print(moves(4,'s','d','a'))"
   ]
  },
  {
   "cell_type": "code",
   "execution_count": null,
   "id": "ec6332bd",
   "metadata": {},
   "outputs": [],
   "source": []
  },
  {
   "cell_type": "code",
   "execution_count": 8,
   "id": "4fa4c465",
   "metadata": {},
   "outputs": [
    {
     "data": {
      "text/plain": [
       "22"
      ]
     },
     "execution_count": 8,
     "metadata": {},
     "output_type": "execute_result"
    }
   ],
   "source": [
    "#Q. 3 Print the max value of the array [ 13, 1, -3, 22, 5].\n",
    "def find_max(arr):\n",
    "    if len(arr)==1:\n",
    "        return arr[0]\n",
    "    else:\n",
    "        return max(arr[0],find_max(arr[1:]))\n",
    "arr=[ 13, 1, -3, 22, 5]\n",
    "find_max(arr)"
   ]
  },
  {
   "cell_type": "code",
   "execution_count": 10,
   "id": "e3c00b5a",
   "metadata": {},
   "outputs": [
    {
     "data": {
      "text/plain": [
       "120"
      ]
     },
     "execution_count": 10,
     "metadata": {},
     "output_type": "execute_result"
    }
   ],
   "source": [
    "#Q.4 Find the sum of the values of the array [92, 23, 15, -20, 10].\n",
    "def find_sum(arr):\n",
    "    if len(arr)==1:\n",
    "        return arr[0]\n",
    "    else:\n",
    "        return (arr[0] + find_sum(arr[1:]))\n",
    "arr=[92, 23, 15, -20, 10]\n",
    "find_sum(arr)"
   ]
  },
  {
   "cell_type": "code",
   "execution_count": null,
   "id": "b655f343",
   "metadata": {},
   "outputs": [],
   "source": [
    "# Q.5 Given a number n. Print if it is an armstrong number or not.An armstrong number is a number if the sum\n",
    "#of every digit in that number raised to the power of total digits in that number is equal to the number."
   ]
  },
  {
   "cell_type": "code",
   "execution_count": 13,
   "id": "46c5ba77",
   "metadata": {},
   "outputs": [
    {
     "name": "stdout",
     "output_type": "stream",
     "text": [
      "Enter a Number to check if it is an Armstrong number or not:153\n",
      "153 is an Armstrong Number\n"
     ]
    }
   ],
   "source": [
    "def check_armstrong(num):\n",
    "    if num==0:\n",
    "        return num\n",
    "    else:\n",
    "        return pow((num%10),order)+check_armstrong(num//10)\n",
    "\n",
    "#driver code   \n",
    "num=int(input(\"Enter a Number to check if it is an Armstrong number or not:\"))\n",
    "order=len(str(num))\n",
    "sum=check_armstrong(num)\n",
    "\n",
    "if sum==int(num):\n",
    "    print(num,\"is an Armstrong Number\")\n",
    "else:\n",
    "    print(num,\"is not an Armstrong Number\")"
   ]
  },
  {
   "cell_type": "code",
   "execution_count": null,
   "id": "7857e3dc",
   "metadata": {},
   "outputs": [],
   "source": [
    "\n"
   ]
  },
  {
   "cell_type": "code",
   "execution_count": null,
   "id": "59bbc922",
   "metadata": {},
   "outputs": [],
   "source": []
  }
 ],
 "metadata": {
  "kernelspec": {
   "display_name": "Python 3 (ipykernel)",
   "language": "python",
   "name": "python3"
  },
  "language_info": {
   "codemirror_mode": {
    "name": "ipython",
    "version": 3
   },
   "file_extension": ".py",
   "mimetype": "text/x-python",
   "name": "python",
   "nbconvert_exporter": "python",
   "pygments_lexer": "ipython3",
   "version": "3.11.5"
  }
 },
 "nbformat": 4,
 "nbformat_minor": 5
}
